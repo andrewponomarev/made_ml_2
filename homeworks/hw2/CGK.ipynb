{
 "cells": [
  {
   "cell_type": "markdown",
   "metadata": {},
   "source": [
    "# Продвинутое машинное обучение: ДЗ 2\n",
    "\n",
    "Второе задание — это полноценный проект по анализу данных, начиная от анализа постановки задачи и заканчивая сравнением результатов разных моделей. Задача реальная и серьёзная, хотя тему я выбрал развлекательную: мы будем строить вероятностную рейтинг-систему для спортивного “Что? Где? Когда?” (ЧГК).\n",
    "\n",
    "<b>Background</b>: в спортивном “Что? Где? Когда?” соревнующиеся команды отвечают на одни и те же вопросы. После минуты обсуждения команды записывают и сдают свои ответы на карточках; побеждает тот, кто ответил на большее число вопросов. Турнир обычно состоит из нескольких десятков вопросов (обычно 36 или 45, иногда 60, больше редко). Часто бывают синхронные турниры, когда на одни и те же вопросы отвечают команды на сотнях игровых площадок по всему миру, т.е. в одном турнире могут играть сотни, а то и тысячи команд. Соответственно, нам нужно:\n",
    "построить рейтинг-лист, который способен нетривиально предсказывать результаты будущих турниров;\n",
    "при этом, поскольку ЧГК — это хобби, и контрактов тут никаких нет, игроки постоянно переходят из команды в команду, сильный игрок может на один турнир сесть поиграть за другую команду и т.д.; поэтому единицей рейтинг-листа должна быть не команда, а отдельный игрок;\n",
    "а что сильно упрощает задачу и переводит её в область домашних заданий на EM-алгоритм — это характер данных: начиная с какого-то момента, в базу результатов начали вносить все повопросные результаты команд, т.е. в данных будут записи вида “какая команда на какой вопрос правильно ответила”.\n"
   ]
  },
  {
   "cell_type": "markdown",
   "metadata": {},
   "source": [
    "##  Содержание <a name = 'outline'></a>\n",
    "* [Чтение и анализ данных](#data_analysis)\n",
    "* [Baseline-модель](#baseline)\n",
    "* [Оценка качества](#quality)\n",
    "* [EM алгоритм](#EM)\n",
    "* [Рейтинг турниров](#rating_tournaments)\n",
    "* [Рейтинг игроков](#rating_players)"
   ]
  },
  {
   "cell_type": "code",
   "execution_count": 151,
   "metadata": {},
   "outputs": [],
   "source": [
    "import numpy as np\n",
    "import pandas as pd\n",
    "import pickle\n",
    "import re\n",
    "import scipy.stats as stats\n",
    "\n",
    "\n",
    "from tqdm import tqdm\n",
    "from sklearn.preprocessing import OneHotEncoder\n",
    "from sklearn.linear_model import LogisticRegression\n",
    "from scipy import sparse as sp\n",
    "from scipy.special import expit\n"
   ]
  },
  {
   "cell_type": "code",
   "execution_count": 76,
   "metadata": {},
   "outputs": [],
   "source": [
    "random_state = 42"
   ]
  },
  {
   "cell_type": "markdown",
   "metadata": {},
   "source": [
    "## Чтение и анализ данных <a name = \"data_analysis\"/>"
   ]
  },
  {
   "cell_type": "code",
   "execution_count": 88,
   "metadata": {},
   "outputs": [],
   "source": [
    "with open('data/results.pkl', 'rb') as r,\\\n",
    "open('data/tournaments.pkl', 'rb') as t,\\\n",
    "open ('data/players.pkl', 'rb') as p:\n",
    "    results_src = pickle.load(r)\n",
    "    tournaments_src = pickle.load(t)\n",
    "    players_src = pickle.load(p)"
   ]
  },
  {
   "cell_type": "code",
   "execution_count": 89,
   "metadata": {},
   "outputs": [
    {
     "name": "stdout",
     "output_type": "stream",
     "text": [
      "Пример обьекта tournament :\n"
     ]
    },
    {
     "data": {
      "text/plain": [
       "{'id': 1,\n",
       " 'name': 'Чемпионат Южного Кавказа',\n",
       " 'dateStart': '2003-07-25T00:00:00+04:00',\n",
       " 'dateEnd': '2003-07-27T00:00:00+04:00',\n",
       " 'type': {'id': 2, 'name': 'Обычный'},\n",
       " 'season': '/seasons/1',\n",
       " 'orgcommittee': [],\n",
       " 'synchData': None,\n",
       " 'questionQty': None}"
      ]
     },
     "execution_count": 89,
     "metadata": {},
     "output_type": "execute_result"
    }
   ],
   "source": [
    "print('Пример обьекта tournament :')\n",
    "tournaments_src[1]"
   ]
  },
  {
   "cell_type": "code",
   "execution_count": 90,
   "metadata": {},
   "outputs": [
    {
     "name": "stdout",
     "output_type": "stream",
     "text": [
      "Пример обьекта player :\n"
     ]
    },
    {
     "data": {
      "text/plain": [
       "{'id': 1, 'name': 'Алексей', 'patronymic': None, 'surname': 'Абабилов'}"
      ]
     },
     "execution_count": 90,
     "metadata": {},
     "output_type": "execute_result"
    }
   ],
   "source": [
    "print('Пример обьекта player :')\n",
    "players_src[1]"
   ]
  },
  {
   "cell_type": "code",
   "execution_count": 91,
   "metadata": {
    "scrolled": true
   },
   "outputs": [
    {
     "name": "stdout",
     "output_type": "stream",
     "text": [
      "Пример обьекта result для одной из команд:\n"
     ]
    },
    {
     "data": {
      "text/plain": [
       "{'team': {'id': 242,\n",
       "  'name': 'Команда Азимова',\n",
       "  'town': {'id': 21, 'name': 'Баку'}},\n",
       " 'mask': None,\n",
       " 'current': {'name': 'Команда Азимова', 'town': {'id': 21, 'name': 'Баку'}},\n",
       " 'questionsTotal': 0,\n",
       " 'synchRequest': None,\n",
       " 'position': 1,\n",
       " 'controversials': [],\n",
       " 'flags': [],\n",
       " 'teamMembers': [{'flag': None,\n",
       "   'usedRating': 0,\n",
       "   'rating': 0,\n",
       "   'player': {'id': 476,\n",
       "    'name': 'Анар',\n",
       "    'patronymic': 'Беюкага оглы',\n",
       "    'surname': 'Азимов'}},\n",
       "  {'flag': None,\n",
       "   'usedRating': 0,\n",
       "   'rating': 0,\n",
       "   'player': {'id': 878,\n",
       "    'name': 'Фариз',\n",
       "    'patronymic': 'Наим оглы',\n",
       "    'surname': 'Аликишибеков'}},\n",
       "  {'flag': None,\n",
       "   'usedRating': 0,\n",
       "   'rating': 0,\n",
       "   'player': {'id': 1872,\n",
       "    'name': 'Аднан',\n",
       "    'patronymic': 'Фариз оглы',\n",
       "    'surname': 'Ахундов'}},\n",
       "  {'flag': None,\n",
       "   'usedRating': 0,\n",
       "   'rating': 0,\n",
       "   'player': {'id': 13721,\n",
       "    'name': 'Балаш',\n",
       "    'patronymic': 'Алекпер оглы',\n",
       "    'surname': 'Касумов'}},\n",
       "  {'flag': None,\n",
       "   'usedRating': 0,\n",
       "   'rating': 0,\n",
       "   'player': {'id': 22132,\n",
       "    'name': 'Анар',\n",
       "    'patronymic': 'Джафар оглы',\n",
       "    'surname': 'Наджафли'}},\n",
       "  {'flag': None,\n",
       "   'usedRating': 0,\n",
       "   'rating': 0,\n",
       "   'player': {'id': 22133,\n",
       "    'name': 'Рауф',\n",
       "    'patronymic': 'Джафар оглы',\n",
       "    'surname': 'Наджафли'}}]}"
      ]
     },
     "execution_count": 91,
     "metadata": {},
     "output_type": "execute_result"
    }
   ],
   "source": [
    "print('Пример обьекта result для одной из команд:')\n",
    "results_src[1][0]"
   ]
  },
  {
   "cell_type": "markdown",
   "metadata": {},
   "source": [
    "Отфильтруем турниры, в которых нет повопросных результатов и составов команд"
   ]
  },
  {
   "cell_type": "code",
   "execution_count": 105,
   "metadata": {},
   "outputs": [],
   "source": [
    "def is_result_clear(team_result):\n",
    "    return team_result.get('mask') and team_result.get('teamMembers')\\\n",
    "            and len(team_result.get('teamMembers')) > 0\\\n",
    "            and not re.findall('[^01]', team_result.get('mask'))\\\n",
    "            and all(players_src.get(tm['player']['id']) for tm in team_result.get('teamMembers'))"
   ]
  },
  {
   "cell_type": "code",
   "execution_count": 106,
   "metadata": {},
   "outputs": [],
   "source": [
    "clean_results = {}\n",
    "clean_tournaments = {}\n",
    "\n",
    "for t_id, team_results in results_src.items():\n",
    "    clean_team_results = [tr for tr in team_results if is_result_clear(tr)]\n",
    "    if (len(clean_team_results) > 0):\n",
    "        clean_results[t_id] = clean_team_results\n",
    "        clean_tournaments[t_id] = tournaments_src[t_id]"
   ]
  },
  {
   "cell_type": "markdown",
   "metadata": {},
   "source": [
    "Разобьем на тестовую и обучающую выборку. В тестовую войдут турниры за 2020 год, а в обучающую - за 2019."
   ]
  },
  {
   "cell_type": "code",
   "execution_count": 107,
   "metadata": {},
   "outputs": [],
   "source": [
    "tournaments_train = {k: v for k, v in clean_tournaments.items() if v['dateStart'][:4] == '2019'}\n",
    "tournaments_test  = {k: v for k, v in clean_tournaments.items() if v['dateStart'][:4] == '2020'}"
   ]
  },
  {
   "cell_type": "code",
   "execution_count": 108,
   "metadata": {},
   "outputs": [
    {
     "name": "stdout",
     "output_type": "stream",
     "text": [
      "Размер обучающей выборки: 616\n",
      "Размер тестовой выборки:  160\n"
     ]
    }
   ],
   "source": [
    "print(f'Размер обучающей выборки: {len(tournaments_train)}')\n",
    "print(f'Размер тестовой выборки:  {len(tournaments_test)}')"
   ]
  },
  {
   "cell_type": "markdown",
   "metadata": {},
   "source": [
    "## Baseline-модель <a name = \"baseline\"/>"
   ]
  },
  {
   "cell_type": "markdown",
   "metadata": {},
   "source": [
    "Посроим baseline-модель на основе логистической регрессии, которая будет обучать рейтинг-лист игроков.\n",
    "\n",
    "Для того чтобы составить рейтинг лист игроков нужна какая-то мера, по которой можно их сравнить. \n",
    "\n",
    "Возьмем вектор OHE-вектор, состоящий из игроков и вопросов. Обучим  логистическую регрессию ответов команд на вопросы. И возьмем за меру, по которой можно сравнивать игроков коэффициент при значении в OHE-векторе соотвествующее определенному игроку."
   ]
  },
  {
   "cell_type": "code",
   "execution_count": 123,
   "metadata": {},
   "outputs": [
    {
     "name": "stderr",
     "output_type": "stream",
     "text": [
      "100%|██████████| 616/616 [00:20<00:00, 30.79it/s] \n"
     ]
    }
   ],
   "source": [
    "\n",
    "max_question_id = 0\n",
    "\n",
    "train_table = []\n",
    "\n",
    "for tournament_id, tournament in tqdm(tournaments_train.items()):\n",
    "    for team_result in clean_results[tournament_id]:\n",
    "        team_id = team_result['team']['id']\n",
    "        mask = np.array([np.int32(answer) for answer in team_result['mask']])\n",
    "        players = team_result['teamMembers']\n",
    "        questions = np.arange(max_question_id, max_question_id + len(mask))\n",
    "        \n",
    "        for player in players:\n",
    "            player_id = player['player']['id']\n",
    "            for i in range(len(mask)):\n",
    "                train_table.append([tournament_id, team_id, player_id, questions[i], mask[i]])\n",
    "    max_question_id += len(mask)    \n",
    "        \n",
    "train_df = pd.DataFrame(train_table, \n",
    "                        columns = ['tournament_id', 'team_id', 'player_id', 'question_id', 'answer'])      "
   ]
  },
  {
   "cell_type": "code",
   "execution_count": 124,
   "metadata": {},
   "outputs": [],
   "source": [
    "ohe = OneHotEncoder(handle_unknown='ignore')\n",
    "X_train = ohe.fit_transform(train_df[['player_id', 'question_id']])\n",
    "y_train = train_df['answer']"
   ]
  },
  {
   "cell_type": "code",
   "execution_count": 125,
   "metadata": {},
   "outputs": [
    {
     "data": {
      "text/plain": [
       "LogisticRegression(n_jobs=-1, random_state=42)"
      ]
     },
     "execution_count": 125,
     "metadata": {},
     "output_type": "execute_result"
    }
   ],
   "source": [
    "lr = LogisticRegression(random_state=random_state, n_jobs=-1)\n",
    "lr.fit(X_train, y_train)"
   ]
  },
  {
   "cell_type": "code",
   "execution_count": 126,
   "metadata": {},
   "outputs": [],
   "source": [
    "active_players = np.unique(train_df['player_id'])\n",
    "rating = pd.DataFrame({'id': active_players,\n",
    "                       'coef': lr.coef_[0][:len(active_players)],\n",
    "                       'name': [(players_src[i]['name'] + ' ' + players_src[i]['surname']) for i in active_players]\n",
    "                      })"
   ]
  },
  {
   "cell_type": "code",
   "execution_count": 127,
   "metadata": {},
   "outputs": [
    {
     "data": {
      "text/html": [
       "<div>\n",
       "<style scoped>\n",
       "    .dataframe tbody tr th:only-of-type {\n",
       "        vertical-align: middle;\n",
       "    }\n",
       "\n",
       "    .dataframe tbody tr th {\n",
       "        vertical-align: top;\n",
       "    }\n",
       "\n",
       "    .dataframe thead th {\n",
       "        text-align: right;\n",
       "    }\n",
       "</style>\n",
       "<table border=\"1\" class=\"dataframe\">\n",
       "  <thead>\n",
       "    <tr style=\"text-align: right;\">\n",
       "      <th></th>\n",
       "      <th>id</th>\n",
       "      <th>coef</th>\n",
       "      <th>name</th>\n",
       "    </tr>\n",
       "  </thead>\n",
       "  <tbody>\n",
       "    <tr>\n",
       "      <th>3803</th>\n",
       "      <td>27403</td>\n",
       "      <td>3.693135</td>\n",
       "      <td>Максим Руссо</td>\n",
       "    </tr>\n",
       "    <tr>\n",
       "      <th>593</th>\n",
       "      <td>4270</td>\n",
       "      <td>3.582439</td>\n",
       "      <td>Александра Брутер</td>\n",
       "    </tr>\n",
       "    <tr>\n",
       "      <th>5106</th>\n",
       "      <td>37047</td>\n",
       "      <td>3.440767</td>\n",
       "      <td>Мария Юнгер</td>\n",
       "    </tr>\n",
       "    <tr>\n",
       "      <th>5289</th>\n",
       "      <td>38196</td>\n",
       "      <td>3.284078</td>\n",
       "      <td>Артём Митрофанов</td>\n",
       "    </tr>\n",
       "    <tr>\n",
       "      <th>3991</th>\n",
       "      <td>28751</td>\n",
       "      <td>3.236148</td>\n",
       "      <td>Иван Семушин</td>\n",
       "    </tr>\n",
       "    <tr>\n",
       "      <th>513</th>\n",
       "      <td>3671</td>\n",
       "      <td>3.204605</td>\n",
       "      <td>Алексей Богословский</td>\n",
       "    </tr>\n",
       "    <tr>\n",
       "      <th>6633</th>\n",
       "      <td>56647</td>\n",
       "      <td>3.196879</td>\n",
       "      <td>Наталья Горелова</td>\n",
       "    </tr>\n",
       "    <tr>\n",
       "      <th>534</th>\n",
       "      <td>3843</td>\n",
       "      <td>3.157081</td>\n",
       "      <td>Светлана Бомешко</td>\n",
       "    </tr>\n",
       "    <tr>\n",
       "      <th>4176</th>\n",
       "      <td>30152</td>\n",
       "      <td>3.154473</td>\n",
       "      <td>Артём Сорожкин</td>\n",
       "    </tr>\n",
       "    <tr>\n",
       "      <th>3874</th>\n",
       "      <td>27822</td>\n",
       "      <td>3.137638</td>\n",
       "      <td>Михаил Савченков</td>\n",
       "    </tr>\n",
       "    <tr>\n",
       "      <th>9499</th>\n",
       "      <td>90664</td>\n",
       "      <td>3.102570</td>\n",
       "      <td>Иван Ермолаев</td>\n",
       "    </tr>\n",
       "    <tr>\n",
       "      <th>1689</th>\n",
       "      <td>12307</td>\n",
       "      <td>3.092087</td>\n",
       "      <td>Светлана Иванцова</td>\n",
       "    </tr>\n",
       "    <tr>\n",
       "      <th>3178</th>\n",
       "      <td>22799</td>\n",
       "      <td>3.075993</td>\n",
       "      <td>Сергей Николенко</td>\n",
       "    </tr>\n",
       "    <tr>\n",
       "      <th>583</th>\n",
       "      <td>4226</td>\n",
       "      <td>3.069742</td>\n",
       "      <td>Сусанна Бровер</td>\n",
       "    </tr>\n",
       "    <tr>\n",
       "      <th>2359</th>\n",
       "      <td>16837</td>\n",
       "      <td>3.041141</td>\n",
       "      <td>Наталья Кудряшова</td>\n",
       "    </tr>\n",
       "    <tr>\n",
       "      <th>2884</th>\n",
       "      <td>20691</td>\n",
       "      <td>3.035947</td>\n",
       "      <td>Станислав Мереминский</td>\n",
       "    </tr>\n",
       "    <tr>\n",
       "      <th>4719</th>\n",
       "      <td>34328</td>\n",
       "      <td>3.035383</td>\n",
       "      <td>Михаил Царёв</td>\n",
       "    </tr>\n",
       "    <tr>\n",
       "      <th>3229</th>\n",
       "      <td>23178</td>\n",
       "      <td>3.015742</td>\n",
       "      <td>Елизавета Овдеенко</td>\n",
       "    </tr>\n",
       "    <tr>\n",
       "      <th>2531</th>\n",
       "      <td>18036</td>\n",
       "      <td>3.003142</td>\n",
       "      <td>Михаил Левандовский</td>\n",
       "    </tr>\n",
       "    <tr>\n",
       "      <th>4196</th>\n",
       "      <td>30270</td>\n",
       "      <td>2.993407</td>\n",
       "      <td>Сергей Спешков</td>\n",
       "    </tr>\n",
       "  </tbody>\n",
       "</table>\n",
       "</div>"
      ],
      "text/plain": [
       "         id      coef                   name\n",
       "3803  27403  3.693135           Максим Руссо\n",
       "593    4270  3.582439      Александра Брутер\n",
       "5106  37047  3.440767            Мария Юнгер\n",
       "5289  38196  3.284078       Артём Митрофанов\n",
       "3991  28751  3.236148           Иван Семушин\n",
       "513    3671  3.204605   Алексей Богословский\n",
       "6633  56647  3.196879       Наталья Горелова\n",
       "534    3843  3.157081       Светлана Бомешко\n",
       "4176  30152  3.154473         Артём Сорожкин\n",
       "3874  27822  3.137638       Михаил Савченков\n",
       "9499  90664  3.102570          Иван Ермолаев\n",
       "1689  12307  3.092087      Светлана Иванцова\n",
       "3178  22799  3.075993       Сергей Николенко\n",
       "583    4226  3.069742         Сусанна Бровер\n",
       "2359  16837  3.041141      Наталья Кудряшова\n",
       "2884  20691  3.035947  Станислав Мереминский\n",
       "4719  34328  3.035383           Михаил Царёв\n",
       "3229  23178  3.015742     Елизавета Овдеенко\n",
       "2531  18036  3.003142    Михаил Левандовский\n",
       "4196  30270  2.993407         Сергей Спешков"
      ]
     },
     "execution_count": 127,
     "metadata": {},
     "output_type": "execute_result"
    }
   ],
   "source": [
    "rating.sort_values(by='coef', ascending=False).head(20)"
   ]
  },
  {
   "cell_type": "code",
   "execution_count": null,
   "metadata": {},
   "outputs": [],
   "source": []
  },
  {
   "cell_type": "markdown",
   "metadata": {},
   "source": [
    "## Оценка качества <a name = \"quality\"/>"
   ]
  },
  {
   "cell_type": "markdown",
   "metadata": {},
   "source": [
    "Отранжировать команды при оценке качества на тестовой выборке можно, исходя из оценки вероятности того, что хотя бы один участник в команде отвечает на вопрос."
   ]
  },
  {
   "cell_type": "code",
   "execution_count": 139,
   "metadata": {},
   "outputs": [
    {
     "name": "stderr",
     "output_type": "stream",
     "text": [
      "100%|██████████| 160/160 [00:03<00:00, 40.93it/s]\n"
     ]
    }
   ],
   "source": [
    "test_table = []\n",
    "\n",
    "for tournament_id, tournament in tqdm(tournaments_test.items()):\n",
    "    for team_result in clean_results[tournament_id]:\n",
    "        team_id = team_result['team']['id']\n",
    "        mask = np.array([np.int32(answer) for answer in team_result['mask']])\n",
    "        players = team_result['teamMembers']\n",
    "        \n",
    "        for player in players:\n",
    "            player_id = player['player']['id']\n",
    "            if player_id not in active_players:\n",
    "                continue\n",
    "            test_table.append([tournament_id, team_id, player_id, -1, sum(mask), len(mask)])  \n",
    "        \n",
    "test_df = pd.DataFrame(test_table, \n",
    "                        columns = ['tournament_id', 'team_id', 'player_id', 'question_id', 'correct_answers', 'total_answers'])      "
   ]
  },
  {
   "cell_type": "code",
   "execution_count": 140,
   "metadata": {},
   "outputs": [],
   "source": [
    "X_test = test_df[['player_id', 'question_id']]\n",
    "X_test = ohe.transform(X_test)\n",
    "predictions = lr.predict_proba(X_test)[:, 1]"
   ]
  },
  {
   "cell_type": "code",
   "execution_count": 175,
   "metadata": {},
   "outputs": [],
   "source": [
    "def compute_scores(data, preds):\n",
    "    data['pred'] = preds\n",
    "    data['score'] = data.groupby(['tournament_id', 'team_id'])['pred'].transform(lambda x: 1 - np.prod(1 - x))\n",
    "    rating = data[['tournament_id', 'team_id', 'correct_answers', 'score']].drop_duplicates().reset_index(drop=True)\n",
    "    \n",
    "    # Считаем реальный рейтинг команд\n",
    "    rating = rating.sort_values(by=['tournament_id', 'correct_answers'], ascending=False)\n",
    "    rating['real_rank'] = rating.groupby('tournament_id')['correct_answers'].transform(lambda x: np.arange(1, len(x) + 1))\n",
    "    \n",
    "    # Считаем предсказанный рейтинг\n",
    "    rating = rating.sort_values(by=['tournament_id', 'score'], ascending=False)\n",
    "    rating['pred_rank'] = rating.groupby('tournament_id')['score'].transform(lambda x: np.arange(1, len(x) + 1))\n",
    "\n",
    "    rating = rating.astype(np.int32)\n",
    "    \n",
    "    print(f\"Корреляция Спирмана: {rating.groupby('tournament_id').apply(lambda x: stats.spearmanr(x['real_rank'], x['pred_rank']).correlation).mean()}\")\n",
    "    print(f\"Корреляция Кендалла: {rating.groupby('tournament_id').apply(lambda x: stats.kendalltau(x['real_rank'], x['pred_rank']).correlation).mean()}\")"
   ]
  },
  {
   "cell_type": "code",
   "execution_count": 142,
   "metadata": {},
   "outputs": [
    {
     "name": "stdout",
     "output_type": "stream",
     "text": [
      "Корреляция Спирмана: 0.7686425235419162\n",
      "Корреляция Кендалла: 0.6002710452381033\n"
     ]
    }
   ],
   "source": [
    "compute_scores(test_df, predictions)"
   ]
  },
  {
   "cell_type": "code",
   "execution_count": null,
   "metadata": {},
   "outputs": [],
   "source": []
  },
  {
   "cell_type": "markdown",
   "metadata": {},
   "source": [
    "## EM алгоритм <a name = \"EM\"/>"
   ]
  },
  {
   "cell_type": "markdown",
   "metadata": {},
   "source": [
    "Усовершенствуем модель. \n",
    "\n",
    "Прежде всего необходимо учитывать то, что на вопрос отвечают сразу несколько игроков. В baseline мы считали, что если команда ответила на вопрос, то и каждый игрок в команде ответил на вопрос. Однако в реальности это только дает нам право говорить, что если команда не ответила на вопрос, то ни один игрок в команде на него ответил.\n",
    "А так же, если хотя бы один игрок ответил на вопрос, то и команда ответила\n"
   ]
  },
  {
   "cell_type": "markdown",
   "metadata": {},
   "source": [
    "Введем новые обозначения\n",
    "\n",
    "Пусть \n",
    "$A$ - событие, игрок ответил на вопрос\n",
    "$B$ - команда ответила на вопрос\n",
    "\n",
    "Тогда можем вывести следующие соотношения:\n",
    "\n",
    "$P(B|A) = 1\n",
    "\\\\\n",
    "P(A|\\overline{B}) = 0\n",
    "\\\\\n",
    "P(A|B) = \\frac{P(B|A)P(A)}{P(B)} = \\frac{P(A)}{P(B)}\n",
    "\\\\\n",
    "P(B) = 1 - \\prod(1-P(A))\n",
    "$"
   ]
  },
  {
   "cell_type": "markdown",
   "metadata": {},
   "source": [
    "Таким образом реализация EM-алгоритма будет выглядеть следующим образом:\n",
    "\n",
    "E-step - оценка $P(A|B)$\n",
    "\n",
    "M-step - обучение логистической регрессии на таргете с E-step\n",
    "\n",
    "В итоге получаем $P(A)$"
   ]
  },
  {
   "cell_type": "code",
   "execution_count": 158,
   "metadata": {},
   "outputs": [],
   "source": [
    "def log_loss(y_true, y_pred):\n",
    "    return - np.mean(y_true * np.log(y_pred) + (1 - y_true) * np.log(1 - y_pred))\n",
    "\n",
    "class EMClassifier:\n",
    "    \n",
    "    def __init__(self, w=None, lr=15, n_iter=10, batch_size=5000, verbose=1):\n",
    "        self.w = w\n",
    "        self.lr = lr\n",
    "        self.n_iter = n_iter\n",
    "        self.batch_size = batch_size\n",
    "        self.verbose = 1\n",
    "        \n",
    "    def _add_intercept(self, X):\n",
    "        return sp.hstack((np.ones((X.shape[0], 1)), X), format='csr')\n",
    "    \n",
    "        \n",
    "    def _E_step(self, data, preds):\n",
    "        team_prob = pd.DataFrame({'team_id': data['team_id'],\n",
    "                                      'question_id': data['question_id'], \n",
    "                                      'team_prob': 1 - preds})\\\n",
    "                        .groupby(['team_id', 'question_id']).agg({'team_prob': 'prod'}).reset_index()\n",
    "\n",
    "        team_prob['team_prob'] = 1 - team_prob['team_prob']\n",
    "        team_prob = data[['team_id', 'question_id']].merge(team_prob)\n",
    "        y = np.clip(preds / team_prob['team_prob'], 0, 1).values\n",
    "        y[data['answer'] == 0] = 0\n",
    "        return y\n",
    "        \n",
    "    def _M_step(self, X, y):\n",
    "        min_loss = np.inf\n",
    "        indices = np.arange(X.shape[0])\n",
    "        for _ in range(100):\n",
    "            indices = np.random.permutation(indices)\n",
    "            for batch_idx in np.array_split(indices, len(indices) // self.batch_size):\n",
    "                x_batch, y_batch = X[batch_idx], y[batch_idx]\n",
    "                grad = x_batch.T.dot(self.predict(x_batch) - y_batch) / len(y_batch)\n",
    "                self.w -= self.lr * grad\n",
    "                \n",
    "            cur_loss = log_loss(y, self.predict(X))\n",
    "            if min_loss - cur_loss < 1e-6:\n",
    "                break\n",
    "                \n",
    "            min_loss = cur_loss\n",
    "                \n",
    "    def fit(self, X_tr, train_data, X_te=None, test_data=None):\n",
    "        X_tr = self._add_intercept(X_tr)\n",
    "        for iter_ in tqdm(range(self.n_iter)): \n",
    "            preds = self.predict(X_tr)\n",
    "            y = self._E_step(train_data, preds)\n",
    "            self._M_step(X_tr, y)\n",
    "            if self.verbose is not None and X_te is not None and test_data is not None and iter_ % self.verbose == 0:\n",
    "                compute_scores(test_data, self.predict(X_te))\n",
    "                         \n",
    "    def predict(self, X):\n",
    "        if len(self.w) != X.shape[1]:\n",
    "            X = self._add_intercept(X)\n",
    "        return expit(X.dot(self.w))"
   ]
  },
  {
   "cell_type": "code",
   "execution_count": 159,
   "metadata": {},
   "outputs": [
    {
     "name": "stderr",
     "output_type": "stream",
     "text": [
      " 10%|█         | 1/10 [01:53<17:05, 113.95s/it]"
     ]
    },
    {
     "name": "stdout",
     "output_type": "stream",
     "text": [
      "Корреляция Спирмана: 0.776488395036184\n",
      "Корреляция Кендалла: 0.6090761165465001\n"
     ]
    },
    {
     "name": "stderr",
     "output_type": "stream",
     "text": [
      "\r",
      " 20%|██        | 2/10 [07:22<23:45, 178.20s/it]"
     ]
    },
    {
     "name": "stdout",
     "output_type": "stream",
     "text": [
      "Корреляция Спирмана: 0.7756330734582625\n",
      "Корреляция Кендалла: 0.608241723690095\n"
     ]
    },
    {
     "name": "stderr",
     "output_type": "stream",
     "text": [
      "\r",
      " 30%|███       | 3/10 [11:15<22:42, 194.63s/it]"
     ]
    },
    {
     "name": "stdout",
     "output_type": "stream",
     "text": [
      "Корреляция Спирмана: 0.7764148930894234\n",
      "Корреляция Кендалла: 0.6089804631799911\n"
     ]
    },
    {
     "name": "stderr",
     "output_type": "stream",
     "text": [
      "\r",
      " 40%|████      | 4/10 [16:10<22:29, 224.93s/it]"
     ]
    },
    {
     "name": "stdout",
     "output_type": "stream",
     "text": [
      "Корреляция Спирмана: 0.776312187556244\n",
      "Корреляция Кендалла: 0.6087934922152157\n"
     ]
    },
    {
     "name": "stderr",
     "output_type": "stream",
     "text": [
      "\r",
      " 50%|█████     | 5/10 [25:37<27:17, 327.54s/it]"
     ]
    },
    {
     "name": "stdout",
     "output_type": "stream",
     "text": [
      "Корреляция Спирмана: 0.7767602084871692\n",
      "Корреляция Кендалла: 0.6088599176772973\n"
     ]
    },
    {
     "name": "stderr",
     "output_type": "stream",
     "text": [
      "\r",
      " 60%|██████    | 6/10 [36:07<27:52, 418.23s/it]"
     ]
    },
    {
     "name": "stdout",
     "output_type": "stream",
     "text": [
      "Корреляция Спирмана: 0.7768080736270314\n",
      "Корреляция Кендалла: 0.608662730401632\n"
     ]
    },
    {
     "name": "stderr",
     "output_type": "stream",
     "text": [
      "\r",
      " 70%|███████   | 7/10 [38:06<16:25, 328.52s/it]"
     ]
    },
    {
     "name": "stdout",
     "output_type": "stream",
     "text": [
      "Корреляция Спирмана: 0.777413190709361\n",
      "Корреляция Кендалла: 0.6090807055506128\n"
     ]
    },
    {
     "name": "stderr",
     "output_type": "stream",
     "text": [
      "\r",
      " 80%|████████  | 8/10 [40:06<08:52, 266.01s/it]"
     ]
    },
    {
     "name": "stdout",
     "output_type": "stream",
     "text": [
      "Корреляция Спирмана: 0.7773127277069969\n",
      "Корреляция Кендалла: 0.6092628292823374\n"
     ]
    },
    {
     "name": "stderr",
     "output_type": "stream",
     "text": [
      "\r",
      " 90%|█████████ | 9/10 [42:56<03:57, 237.13s/it]"
     ]
    },
    {
     "name": "stdout",
     "output_type": "stream",
     "text": [
      "Корреляция Спирмана: 0.7774699920471461\n",
      "Корреляция Кендалла: 0.6095793760849213\n"
     ]
    },
    {
     "name": "stderr",
     "output_type": "stream",
     "text": [
      "100%|██████████| 10/10 [46:35<00:00, 279.50s/it]"
     ]
    },
    {
     "name": "stdout",
     "output_type": "stream",
     "text": [
      "Корреляция Спирмана: 0.7780886247425316\n",
      "Корреляция Кендалла: 0.610170353216916\n"
     ]
    },
    {
     "name": "stderr",
     "output_type": "stream",
     "text": [
      "\n"
     ]
    }
   ],
   "source": [
    "# Веса инициализирются предобученной baseline моделью\n",
    "w_init = np.hstack([lr.intercept_, lr.coef_[0]])\n",
    "em_classifier = EMClassifier(w_init)\n",
    "\n",
    "em_classifier.fit(X_train, train_df, X_test, test_df)"
   ]
  },
  {
   "cell_type": "markdown",
   "metadata": {},
   "source": [
    "По результатам обучения наблюдается прирост качества, пусть и небольшой."
   ]
  },
  {
   "cell_type": "markdown",
   "metadata": {},
   "source": [
    "## Рейтинг турниров <a name = \"rating_tournaments\"/>"
   ]
  },
  {
   "cell_type": "markdown",
   "metadata": {},
   "source": [
    "А что там с вопросами? Постройте “рейтинг-лист” турниров по сложности вопросов. Соответствует ли он интуиции (например, на чемпионате мира в целом должны быть сложные вопросы, а на турнирах для школьников — простые)? Если будет интересно: постройте топ сложных и простых вопросов со ссылками на конкретные записи в базе вопросов ЧГК (это чисто техническое дело, тут никакого ML нету).\n",
    "\n",
    "Сложность турнира можно посчитать как среднюю сложность вопросов в турнире - возьмем средние коэффициенты обученной модели."
   ]
  },
  {
   "cell_type": "code",
   "execution_count": 164,
   "metadata": {},
   "outputs": [],
   "source": [
    "active_questions = np.unique(train_df['question_id'])\n",
    "q_rating = dict(zip(active_questions, em_classifier.w[-len(active_questions):]))\n",
    "\n",
    "train_df['difficulty'] = train_df['question_id'].map(q_rating)\n",
    "train_df['tournament_name'] = train_df['tournament_id'].map({v['id']: v['name']for k, v in tournaments_src.items()})\n",
    "\n",
    "tournaments_rating = train_df[['tournament_name', 'question_id', 'difficulty']].drop_duplicates()\n",
    "tournaments_rating = tournaments_rating.groupby('tournament_name')['difficulty'].mean().sort_values().reset_index()"
   ]
  },
  {
   "cell_type": "markdown",
   "metadata": {},
   "source": [
    "Ниже расположены рейтинг самых сложных турниров"
   ]
  },
  {
   "cell_type": "code",
   "execution_count": 165,
   "metadata": {},
   "outputs": [
    {
     "data": {
      "text/html": [
       "<div>\n",
       "<style scoped>\n",
       "    .dataframe tbody tr th:only-of-type {\n",
       "        vertical-align: middle;\n",
       "    }\n",
       "\n",
       "    .dataframe tbody tr th {\n",
       "        vertical-align: top;\n",
       "    }\n",
       "\n",
       "    .dataframe thead th {\n",
       "        text-align: right;\n",
       "    }\n",
       "</style>\n",
       "<table border=\"1\" class=\"dataframe\">\n",
       "  <thead>\n",
       "    <tr style=\"text-align: right;\">\n",
       "      <th></th>\n",
       "      <th>tournament_name</th>\n",
       "      <th>difficulty</th>\n",
       "    </tr>\n",
       "  </thead>\n",
       "  <tbody>\n",
       "    <tr>\n",
       "      <th>0</th>\n",
       "      <td>Чемпионат Санкт-Петербурга. Первая лига</td>\n",
       "      <td>-3.593347</td>\n",
       "    </tr>\n",
       "    <tr>\n",
       "      <th>1</th>\n",
       "      <td>Угрюмый Ёрш</td>\n",
       "      <td>-2.033586</td>\n",
       "    </tr>\n",
       "    <tr>\n",
       "      <th>2</th>\n",
       "      <td>Первенство правого полушария</td>\n",
       "      <td>-1.848786</td>\n",
       "    </tr>\n",
       "    <tr>\n",
       "      <th>3</th>\n",
       "      <td>Кубок городов</td>\n",
       "      <td>-1.621134</td>\n",
       "    </tr>\n",
       "    <tr>\n",
       "      <th>4</th>\n",
       "      <td>Воображаемый музей</td>\n",
       "      <td>-1.554841</td>\n",
       "    </tr>\n",
       "    <tr>\n",
       "      <th>5</th>\n",
       "      <td>Записки охотника</td>\n",
       "      <td>-1.459090</td>\n",
       "    </tr>\n",
       "    <tr>\n",
       "      <th>6</th>\n",
       "      <td>Чемпионат России</td>\n",
       "      <td>-1.458811</td>\n",
       "    </tr>\n",
       "    <tr>\n",
       "      <th>7</th>\n",
       "      <td>Ускользающая сова</td>\n",
       "      <td>-1.411516</td>\n",
       "    </tr>\n",
       "    <tr>\n",
       "      <th>8</th>\n",
       "      <td>All Cats Are Beautiful</td>\n",
       "      <td>-1.409829</td>\n",
       "    </tr>\n",
       "    <tr>\n",
       "      <th>9</th>\n",
       "      <td>VERSUS: Коробейников vs. Матвеев</td>\n",
       "      <td>-1.393327</td>\n",
       "    </tr>\n",
       "    <tr>\n",
       "      <th>10</th>\n",
       "      <td>Ра-II: синхрон \"Борского корабела\"</td>\n",
       "      <td>-1.359024</td>\n",
       "    </tr>\n",
       "    <tr>\n",
       "      <th>11</th>\n",
       "      <td>Антибинго</td>\n",
       "      <td>-1.347699</td>\n",
       "    </tr>\n",
       "    <tr>\n",
       "      <th>12</th>\n",
       "      <td>Чемпионат Мира. Этап 3. Группа В</td>\n",
       "      <td>-1.304515</td>\n",
       "    </tr>\n",
       "    <tr>\n",
       "      <th>13</th>\n",
       "      <td>Знание – Сила VI</td>\n",
       "      <td>-1.293682</td>\n",
       "    </tr>\n",
       "    <tr>\n",
       "      <th>14</th>\n",
       "      <td>Тихий Донец: омут первый</td>\n",
       "      <td>-1.284754</td>\n",
       "    </tr>\n",
       "    <tr>\n",
       "      <th>15</th>\n",
       "      <td>Кубок Москвы</td>\n",
       "      <td>-1.269396</td>\n",
       "    </tr>\n",
       "    <tr>\n",
       "      <th>16</th>\n",
       "      <td>Линч</td>\n",
       "      <td>-1.266944</td>\n",
       "    </tr>\n",
       "    <tr>\n",
       "      <th>17</th>\n",
       "      <td>Чемпионат Мира. Этап 2. Группа В</td>\n",
       "      <td>-1.259257</td>\n",
       "    </tr>\n",
       "    <tr>\n",
       "      <th>18</th>\n",
       "      <td>Мемориал Дмитрия Коноваленко</td>\n",
       "      <td>-1.240075</td>\n",
       "    </tr>\n",
       "    <tr>\n",
       "      <th>19</th>\n",
       "      <td>Серия Premier. Седьмая печать</td>\n",
       "      <td>-1.211492</td>\n",
       "    </tr>\n",
       "  </tbody>\n",
       "</table>\n",
       "</div>"
      ],
      "text/plain": [
       "                            tournament_name  difficulty\n",
       "0   Чемпионат Санкт-Петербурга. Первая лига   -3.593347\n",
       "1                               Угрюмый Ёрш   -2.033586\n",
       "2              Первенство правого полушария   -1.848786\n",
       "3                             Кубок городов   -1.621134\n",
       "4                        Воображаемый музей   -1.554841\n",
       "5                          Записки охотника   -1.459090\n",
       "6                          Чемпионат России   -1.458811\n",
       "7                         Ускользающая сова   -1.411516\n",
       "8                    All Cats Are Beautiful   -1.409829\n",
       "9          VERSUS: Коробейников vs. Матвеев   -1.393327\n",
       "10       Ра-II: синхрон \"Борского корабела\"   -1.359024\n",
       "11                                Антибинго   -1.347699\n",
       "12         Чемпионат Мира. Этап 3. Группа В   -1.304515\n",
       "13                         Знание – Сила VI   -1.293682\n",
       "14                 Тихий Донец: омут первый   -1.284754\n",
       "15                             Кубок Москвы   -1.269396\n",
       "16                                     Линч   -1.266944\n",
       "17         Чемпионат Мира. Этап 2. Группа В   -1.259257\n",
       "18             Мемориал Дмитрия Коноваленко   -1.240075\n",
       "19            Серия Premier. Седьмая печать   -1.211492"
      ]
     },
     "execution_count": 165,
     "metadata": {},
     "output_type": "execute_result"
    }
   ],
   "source": [
    "tournaments_rating.head(20)"
   ]
  },
  {
   "cell_type": "markdown",
   "metadata": {},
   "source": [
    "## Рейтинг игроков <a name = \"rating_players\"/>"
   ]
  },
  {
   "cell_type": "markdown",
   "metadata": {},
   "source": [
    "Посмотрим еще раз рейтинг игроков"
   ]
  },
  {
   "cell_type": "code",
   "execution_count": 169,
   "metadata": {},
   "outputs": [],
   "source": [
    "rating = pd.DataFrame({'id': active_players,\n",
    "                       'coef': em_classifier.w[1:1 + len(active_players)],\n",
    "                       'name': [(players_src[i]['name'] + ' ' + players_src[i]['surname']) for i in active_players]\n",
    "                      })\n",
    "rating['questions_count'] = rating['id'].map(train_df.groupby('player_id')['question_id'].count())"
   ]
  },
  {
   "cell_type": "code",
   "execution_count": 174,
   "metadata": {},
   "outputs": [
    {
     "data": {
      "text/html": [
       "<div>\n",
       "<style scoped>\n",
       "    .dataframe tbody tr th:only-of-type {\n",
       "        vertical-align: middle;\n",
       "    }\n",
       "\n",
       "    .dataframe tbody tr th {\n",
       "        vertical-align: top;\n",
       "    }\n",
       "\n",
       "    .dataframe thead th {\n",
       "        text-align: right;\n",
       "    }\n",
       "</style>\n",
       "<table border=\"1\" class=\"dataframe\">\n",
       "  <thead>\n",
       "    <tr style=\"text-align: right;\">\n",
       "      <th></th>\n",
       "      <th>id</th>\n",
       "      <th>coef</th>\n",
       "      <th>name</th>\n",
       "      <th>questions_count</th>\n",
       "    </tr>\n",
       "  </thead>\n",
       "  <tbody>\n",
       "    <tr>\n",
       "      <th>56810</th>\n",
       "      <td>222188</td>\n",
       "      <td>3.924734</td>\n",
       "      <td>Арина Гринко</td>\n",
       "      <td>216</td>\n",
       "    </tr>\n",
       "    <tr>\n",
       "      <th>3803</th>\n",
       "      <td>27403</td>\n",
       "      <td>3.763272</td>\n",
       "      <td>Максим Руссо</td>\n",
       "      <td>2075</td>\n",
       "    </tr>\n",
       "    <tr>\n",
       "      <th>9199</th>\n",
       "      <td>87637</td>\n",
       "      <td>3.574147</td>\n",
       "      <td>Антон Саксонов</td>\n",
       "      <td>1179</td>\n",
       "    </tr>\n",
       "    <tr>\n",
       "      <th>54137</th>\n",
       "      <td>216863</td>\n",
       "      <td>3.550071</td>\n",
       "      <td>Глеб Гаврилов</td>\n",
       "      <td>252</td>\n",
       "    </tr>\n",
       "    <tr>\n",
       "      <th>8063</th>\n",
       "      <td>74001</td>\n",
       "      <td>3.521446</td>\n",
       "      <td>Игорь Мокин</td>\n",
       "      <td>1071</td>\n",
       "    </tr>\n",
       "    <tr>\n",
       "      <th>593</th>\n",
       "      <td>4270</td>\n",
       "      <td>3.410755</td>\n",
       "      <td>Александра Брутер</td>\n",
       "      <td>2555</td>\n",
       "    </tr>\n",
       "    <tr>\n",
       "      <th>3844</th>\n",
       "      <td>27622</td>\n",
       "      <td>3.391753</td>\n",
       "      <td>Николай Рябых</td>\n",
       "      <td>321</td>\n",
       "    </tr>\n",
       "    <tr>\n",
       "      <th>4176</th>\n",
       "      <td>30152</td>\n",
       "      <td>3.296343</td>\n",
       "      <td>Артём Сорожкин</td>\n",
       "      <td>4375</td>\n",
       "    </tr>\n",
       "    <tr>\n",
       "      <th>3396</th>\n",
       "      <td>24384</td>\n",
       "      <td>3.271007</td>\n",
       "      <td>Евгений Пашковский</td>\n",
       "      <td>1629</td>\n",
       "    </tr>\n",
       "    <tr>\n",
       "      <th>3991</th>\n",
       "      <td>28751</td>\n",
       "      <td>3.270155</td>\n",
       "      <td>Иван Семушин</td>\n",
       "      <td>3386</td>\n",
       "    </tr>\n",
       "    <tr>\n",
       "      <th>4191</th>\n",
       "      <td>30260</td>\n",
       "      <td>3.250937</td>\n",
       "      <td>Евгений Спектор</td>\n",
       "      <td>233</td>\n",
       "    </tr>\n",
       "    <tr>\n",
       "      <th>4800</th>\n",
       "      <td>34846</td>\n",
       "      <td>3.239409</td>\n",
       "      <td>Антон Чернин</td>\n",
       "      <td>1751</td>\n",
       "    </tr>\n",
       "    <tr>\n",
       "      <th>3160</th>\n",
       "      <td>22660</td>\n",
       "      <td>3.212072</td>\n",
       "      <td>Павел Никитин</td>\n",
       "      <td>252</td>\n",
       "    </tr>\n",
       "    <tr>\n",
       "      <th>4196</th>\n",
       "      <td>30270</td>\n",
       "      <td>3.203064</td>\n",
       "      <td>Сергей Спешков</td>\n",
       "      <td>3440</td>\n",
       "    </tr>\n",
       "    <tr>\n",
       "      <th>3874</th>\n",
       "      <td>27822</td>\n",
       "      <td>3.191496</td>\n",
       "      <td>Михаил Савченков</td>\n",
       "      <td>3107</td>\n",
       "    </tr>\n",
       "    <tr>\n",
       "      <th>5106</th>\n",
       "      <td>37047</td>\n",
       "      <td>3.189511</td>\n",
       "      <td>Мария Юнгер</td>\n",
       "      <td>452</td>\n",
       "    </tr>\n",
       "    <tr>\n",
       "      <th>976</th>\n",
       "      <td>7008</td>\n",
       "      <td>3.178995</td>\n",
       "      <td>Алексей Гилёв</td>\n",
       "      <td>3979</td>\n",
       "    </tr>\n",
       "    <tr>\n",
       "      <th>8774</th>\n",
       "      <td>82688</td>\n",
       "      <td>3.162743</td>\n",
       "      <td>Игорь Калгин</td>\n",
       "      <td>180</td>\n",
       "    </tr>\n",
       "    <tr>\n",
       "      <th>6633</th>\n",
       "      <td>56647</td>\n",
       "      <td>3.147837</td>\n",
       "      <td>Наталья Горелова</td>\n",
       "      <td>2021</td>\n",
       "    </tr>\n",
       "    <tr>\n",
       "      <th>3421</th>\n",
       "      <td>24543</td>\n",
       "      <td>3.145708</td>\n",
       "      <td>Евгений Перпер</td>\n",
       "      <td>1319</td>\n",
       "    </tr>\n",
       "    <tr>\n",
       "      <th>3578</th>\n",
       "      <td>25757</td>\n",
       "      <td>3.139897</td>\n",
       "      <td>Мария Летюхина</td>\n",
       "      <td>363</td>\n",
       "    </tr>\n",
       "    <tr>\n",
       "      <th>2571</th>\n",
       "      <td>18332</td>\n",
       "      <td>3.122868</td>\n",
       "      <td>Александр Либер</td>\n",
       "      <td>3243</td>\n",
       "    </tr>\n",
       "    <tr>\n",
       "      <th>3595</th>\n",
       "      <td>25882</td>\n",
       "      <td>3.105750</td>\n",
       "      <td>Максим Поташев</td>\n",
       "      <td>1802</td>\n",
       "    </tr>\n",
       "    <tr>\n",
       "      <th>2531</th>\n",
       "      <td>18036</td>\n",
       "      <td>3.105406</td>\n",
       "      <td>Михаил Левандовский</td>\n",
       "      <td>1203</td>\n",
       "    </tr>\n",
       "    <tr>\n",
       "      <th>5289</th>\n",
       "      <td>38196</td>\n",
       "      <td>3.102506</td>\n",
       "      <td>Артём Митрофанов</td>\n",
       "      <td>546</td>\n",
       "    </tr>\n",
       "    <tr>\n",
       "      <th>3229</th>\n",
       "      <td>23178</td>\n",
       "      <td>3.097348</td>\n",
       "      <td>Елизавета Овдеенко</td>\n",
       "      <td>2088</td>\n",
       "    </tr>\n",
       "    <tr>\n",
       "      <th>2053</th>\n",
       "      <td>14786</td>\n",
       "      <td>3.094180</td>\n",
       "      <td>Николай Коврижных</td>\n",
       "      <td>2954</td>\n",
       "    </tr>\n",
       "    <tr>\n",
       "      <th>4230</th>\n",
       "      <td>30475</td>\n",
       "      <td>3.084950</td>\n",
       "      <td>Владимир Степанов</td>\n",
       "      <td>1383</td>\n",
       "    </tr>\n",
       "    <tr>\n",
       "      <th>3195</th>\n",
       "      <td>22935</td>\n",
       "      <td>3.072057</td>\n",
       "      <td>Илья Новиков</td>\n",
       "      <td>1311</td>\n",
       "    </tr>\n",
       "    <tr>\n",
       "      <th>3178</th>\n",
       "      <td>22799</td>\n",
       "      <td>3.071238</td>\n",
       "      <td>Сергей Николенко</td>\n",
       "      <td>1896</td>\n",
       "    </tr>\n",
       "  </tbody>\n",
       "</table>\n",
       "</div>"
      ],
      "text/plain": [
       "           id      coef                 name  questions_count\n",
       "56810  222188  3.924734         Арина Гринко              216\n",
       "3803    27403  3.763272         Максим Руссо             2075\n",
       "9199    87637  3.574147       Антон Саксонов             1179\n",
       "54137  216863  3.550071        Глеб Гаврилов              252\n",
       "8063    74001  3.521446          Игорь Мокин             1071\n",
       "593      4270  3.410755    Александра Брутер             2555\n",
       "3844    27622  3.391753        Николай Рябых              321\n",
       "4176    30152  3.296343       Артём Сорожкин             4375\n",
       "3396    24384  3.271007   Евгений Пашковский             1629\n",
       "3991    28751  3.270155         Иван Семушин             3386\n",
       "4191    30260  3.250937      Евгений Спектор              233\n",
       "4800    34846  3.239409         Антон Чернин             1751\n",
       "3160    22660  3.212072        Павел Никитин              252\n",
       "4196    30270  3.203064       Сергей Спешков             3440\n",
       "3874    27822  3.191496     Михаил Савченков             3107\n",
       "5106    37047  3.189511          Мария Юнгер              452\n",
       "976      7008  3.178995        Алексей Гилёв             3979\n",
       "8774    82688  3.162743         Игорь Калгин              180\n",
       "6633    56647  3.147837     Наталья Горелова             2021\n",
       "3421    24543  3.145708       Евгений Перпер             1319\n",
       "3578    25757  3.139897       Мария Летюхина              363\n",
       "2571    18332  3.122868      Александр Либер             3243\n",
       "3595    25882  3.105750       Максим Поташев             1802\n",
       "2531    18036  3.105406  Михаил Левандовский             1203\n",
       "5289    38196  3.102506     Артём Митрофанов              546\n",
       "3229    23178  3.097348   Елизавета Овдеенко             2088\n",
       "2053    14786  3.094180    Николай Коврижных             2954\n",
       "4230    30475  3.084950    Владимир Степанов             1383\n",
       "3195    22935  3.072057         Илья Новиков             1311\n",
       "3178    22799  3.071238     Сергей Николенко             1896"
      ]
     },
     "execution_count": 174,
     "metadata": {},
     "output_type": "execute_result"
    }
   ],
   "source": [
    "rating.sort_values(by='coef', ascending=False).head(30)"
   ]
  },
  {
   "cell_type": "markdown",
   "metadata": {},
   "source": [
    "Среди игроков в топе появилось много игроков, у которых довольно мало сыгранных турниров. Попробуем брать в рейтинг только тех игроков у которых сыграно больше 1000 игр.\n"
   ]
  },
  {
   "cell_type": "code",
   "execution_count": 173,
   "metadata": {},
   "outputs": [
    {
     "data": {
      "text/html": [
       "<div>\n",
       "<style scoped>\n",
       "    .dataframe tbody tr th:only-of-type {\n",
       "        vertical-align: middle;\n",
       "    }\n",
       "\n",
       "    .dataframe tbody tr th {\n",
       "        vertical-align: top;\n",
       "    }\n",
       "\n",
       "    .dataframe thead th {\n",
       "        text-align: right;\n",
       "    }\n",
       "</style>\n",
       "<table border=\"1\" class=\"dataframe\">\n",
       "  <thead>\n",
       "    <tr style=\"text-align: right;\">\n",
       "      <th></th>\n",
       "      <th>id</th>\n",
       "      <th>coef</th>\n",
       "      <th>name</th>\n",
       "      <th>questions_count</th>\n",
       "    </tr>\n",
       "  </thead>\n",
       "  <tbody>\n",
       "    <tr>\n",
       "      <th>3803</th>\n",
       "      <td>27403</td>\n",
       "      <td>3.763272</td>\n",
       "      <td>Максим Руссо</td>\n",
       "      <td>2075</td>\n",
       "    </tr>\n",
       "    <tr>\n",
       "      <th>9199</th>\n",
       "      <td>87637</td>\n",
       "      <td>3.574147</td>\n",
       "      <td>Антон Саксонов</td>\n",
       "      <td>1179</td>\n",
       "    </tr>\n",
       "    <tr>\n",
       "      <th>8063</th>\n",
       "      <td>74001</td>\n",
       "      <td>3.521446</td>\n",
       "      <td>Игорь Мокин</td>\n",
       "      <td>1071</td>\n",
       "    </tr>\n",
       "    <tr>\n",
       "      <th>593</th>\n",
       "      <td>4270</td>\n",
       "      <td>3.410755</td>\n",
       "      <td>Александра Брутер</td>\n",
       "      <td>2555</td>\n",
       "    </tr>\n",
       "    <tr>\n",
       "      <th>4176</th>\n",
       "      <td>30152</td>\n",
       "      <td>3.296343</td>\n",
       "      <td>Артём Сорожкин</td>\n",
       "      <td>4375</td>\n",
       "    </tr>\n",
       "    <tr>\n",
       "      <th>3396</th>\n",
       "      <td>24384</td>\n",
       "      <td>3.271007</td>\n",
       "      <td>Евгений Пашковский</td>\n",
       "      <td>1629</td>\n",
       "    </tr>\n",
       "    <tr>\n",
       "      <th>3991</th>\n",
       "      <td>28751</td>\n",
       "      <td>3.270155</td>\n",
       "      <td>Иван Семушин</td>\n",
       "      <td>3386</td>\n",
       "    </tr>\n",
       "    <tr>\n",
       "      <th>4800</th>\n",
       "      <td>34846</td>\n",
       "      <td>3.239409</td>\n",
       "      <td>Антон Чернин</td>\n",
       "      <td>1751</td>\n",
       "    </tr>\n",
       "    <tr>\n",
       "      <th>4196</th>\n",
       "      <td>30270</td>\n",
       "      <td>3.203064</td>\n",
       "      <td>Сергей Спешков</td>\n",
       "      <td>3440</td>\n",
       "    </tr>\n",
       "    <tr>\n",
       "      <th>3874</th>\n",
       "      <td>27822</td>\n",
       "      <td>3.191496</td>\n",
       "      <td>Михаил Савченков</td>\n",
       "      <td>3107</td>\n",
       "    </tr>\n",
       "    <tr>\n",
       "      <th>976</th>\n",
       "      <td>7008</td>\n",
       "      <td>3.178995</td>\n",
       "      <td>Алексей Гилёв</td>\n",
       "      <td>3979</td>\n",
       "    </tr>\n",
       "    <tr>\n",
       "      <th>6633</th>\n",
       "      <td>56647</td>\n",
       "      <td>3.147837</td>\n",
       "      <td>Наталья Горелова</td>\n",
       "      <td>2021</td>\n",
       "    </tr>\n",
       "    <tr>\n",
       "      <th>3421</th>\n",
       "      <td>24543</td>\n",
       "      <td>3.145708</td>\n",
       "      <td>Евгений Перпер</td>\n",
       "      <td>1319</td>\n",
       "    </tr>\n",
       "    <tr>\n",
       "      <th>2571</th>\n",
       "      <td>18332</td>\n",
       "      <td>3.122868</td>\n",
       "      <td>Александр Либер</td>\n",
       "      <td>3243</td>\n",
       "    </tr>\n",
       "    <tr>\n",
       "      <th>3595</th>\n",
       "      <td>25882</td>\n",
       "      <td>3.105750</td>\n",
       "      <td>Максим Поташев</td>\n",
       "      <td>1802</td>\n",
       "    </tr>\n",
       "    <tr>\n",
       "      <th>2531</th>\n",
       "      <td>18036</td>\n",
       "      <td>3.105406</td>\n",
       "      <td>Михаил Левандовский</td>\n",
       "      <td>1203</td>\n",
       "    </tr>\n",
       "    <tr>\n",
       "      <th>3229</th>\n",
       "      <td>23178</td>\n",
       "      <td>3.097348</td>\n",
       "      <td>Елизавета Овдеенко</td>\n",
       "      <td>2088</td>\n",
       "    </tr>\n",
       "    <tr>\n",
       "      <th>2053</th>\n",
       "      <td>14786</td>\n",
       "      <td>3.094180</td>\n",
       "      <td>Николай Коврижных</td>\n",
       "      <td>2954</td>\n",
       "    </tr>\n",
       "    <tr>\n",
       "      <th>4230</th>\n",
       "      <td>30475</td>\n",
       "      <td>3.084950</td>\n",
       "      <td>Владимир Степанов</td>\n",
       "      <td>1383</td>\n",
       "    </tr>\n",
       "    <tr>\n",
       "      <th>3195</th>\n",
       "      <td>22935</td>\n",
       "      <td>3.072057</td>\n",
       "      <td>Илья Новиков</td>\n",
       "      <td>1311</td>\n",
       "    </tr>\n",
       "    <tr>\n",
       "      <th>3178</th>\n",
       "      <td>22799</td>\n",
       "      <td>3.071238</td>\n",
       "      <td>Сергей Николенко</td>\n",
       "      <td>1896</td>\n",
       "    </tr>\n",
       "    <tr>\n",
       "      <th>3319</th>\n",
       "      <td>23737</td>\n",
       "      <td>3.051922</td>\n",
       "      <td>Андрей Островский</td>\n",
       "      <td>2322</td>\n",
       "    </tr>\n",
       "    <tr>\n",
       "      <th>8101</th>\n",
       "      <td>74382</td>\n",
       "      <td>3.050298</td>\n",
       "      <td>Михаил Новосёлов</td>\n",
       "      <td>2746</td>\n",
       "    </tr>\n",
       "    <tr>\n",
       "      <th>2198</th>\n",
       "      <td>15727</td>\n",
       "      <td>3.038497</td>\n",
       "      <td>Александр Коробейников</td>\n",
       "      <td>1283</td>\n",
       "    </tr>\n",
       "    <tr>\n",
       "      <th>4953</th>\n",
       "      <td>36035</td>\n",
       "      <td>3.033098</td>\n",
       "      <td>Алексей Шередега</td>\n",
       "      <td>1821</td>\n",
       "    </tr>\n",
       "    <tr>\n",
       "      <th>219</th>\n",
       "      <td>1585</td>\n",
       "      <td>3.029181</td>\n",
       "      <td>Юлия Архангельская</td>\n",
       "      <td>1436</td>\n",
       "    </tr>\n",
       "    <tr>\n",
       "      <th>2359</th>\n",
       "      <td>16837</td>\n",
       "      <td>3.023768</td>\n",
       "      <td>Наталья Кудряшова</td>\n",
       "      <td>2219</td>\n",
       "    </tr>\n",
       "    <tr>\n",
       "      <th>2781</th>\n",
       "      <td>19915</td>\n",
       "      <td>3.007104</td>\n",
       "      <td>Александр Марков</td>\n",
       "      <td>2662</td>\n",
       "    </tr>\n",
       "    <tr>\n",
       "      <th>2884</th>\n",
       "      <td>20691</td>\n",
       "      <td>2.973349</td>\n",
       "      <td>Станислав Мереминский</td>\n",
       "      <td>1514</td>\n",
       "    </tr>\n",
       "    <tr>\n",
       "      <th>1479</th>\n",
       "      <td>10586</td>\n",
       "      <td>2.964756</td>\n",
       "      <td>Павел Ершов</td>\n",
       "      <td>2754</td>\n",
       "    </tr>\n",
       "  </tbody>\n",
       "</table>\n",
       "</div>"
      ],
      "text/plain": [
       "         id      coef                    name  questions_count\n",
       "3803  27403  3.763272            Максим Руссо             2075\n",
       "9199  87637  3.574147          Антон Саксонов             1179\n",
       "8063  74001  3.521446             Игорь Мокин             1071\n",
       "593    4270  3.410755       Александра Брутер             2555\n",
       "4176  30152  3.296343          Артём Сорожкин             4375\n",
       "3396  24384  3.271007      Евгений Пашковский             1629\n",
       "3991  28751  3.270155            Иван Семушин             3386\n",
       "4800  34846  3.239409            Антон Чернин             1751\n",
       "4196  30270  3.203064          Сергей Спешков             3440\n",
       "3874  27822  3.191496        Михаил Савченков             3107\n",
       "976    7008  3.178995           Алексей Гилёв             3979\n",
       "6633  56647  3.147837        Наталья Горелова             2021\n",
       "3421  24543  3.145708          Евгений Перпер             1319\n",
       "2571  18332  3.122868         Александр Либер             3243\n",
       "3595  25882  3.105750          Максим Поташев             1802\n",
       "2531  18036  3.105406     Михаил Левандовский             1203\n",
       "3229  23178  3.097348      Елизавета Овдеенко             2088\n",
       "2053  14786  3.094180       Николай Коврижных             2954\n",
       "4230  30475  3.084950       Владимир Степанов             1383\n",
       "3195  22935  3.072057            Илья Новиков             1311\n",
       "3178  22799  3.071238        Сергей Николенко             1896\n",
       "3319  23737  3.051922       Андрей Островский             2322\n",
       "8101  74382  3.050298        Михаил Новосёлов             2746\n",
       "2198  15727  3.038497  Александр Коробейников             1283\n",
       "4953  36035  3.033098        Алексей Шередега             1821\n",
       "219    1585  3.029181      Юлия Архангельская             1436\n",
       "2359  16837  3.023768       Наталья Кудряшова             2219\n",
       "2781  19915  3.007104        Александр Марков             2662\n",
       "2884  20691  2.973349   Станислав Мереминский             1514\n",
       "1479  10586  2.964756             Павел Ершов             2754"
      ]
     },
     "execution_count": 173,
     "metadata": {},
     "output_type": "execute_result"
    }
   ],
   "source": [
    "rating[rating['questions_count'] > 1000].sort_values(by='coef', ascending=False).head(30)"
   ]
  },
  {
   "cell_type": "code",
   "execution_count": null,
   "metadata": {},
   "outputs": [],
   "source": []
  }
 ],
 "metadata": {
  "kernelspec": {
   "display_name": "Python 3",
   "language": "python",
   "name": "python3"
  },
  "language_info": {
   "codemirror_mode": {
    "name": "ipython",
    "version": 3
   },
   "file_extension": ".py",
   "mimetype": "text/x-python",
   "name": "python",
   "nbconvert_exporter": "python",
   "pygments_lexer": "ipython3",
   "version": "3.8.3"
  }
 },
 "nbformat": 4,
 "nbformat_minor": 4
}
